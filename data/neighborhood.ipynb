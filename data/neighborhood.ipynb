{
 "cells": [
  {
   "cell_type": "code",
   "execution_count": 2,
   "id": "cb9a4615-cf83-44fd-908b-78fb7c6c32e3",
   "metadata": {},
   "outputs": [],
   "source": [
    "import pandas as pd"
   ]
  },
  {
   "cell_type": "code",
   "execution_count": 33,
   "id": "7518b3d1-dc55-427e-87d9-744c76001fa2",
   "metadata": {},
   "outputs": [],
   "source": [
    "df = pd.read_csv('2014-2022_entryData.csv')"
   ]
  },
  {
   "cell_type": "code",
   "execution_count": 35,
   "id": "887c5fd1-2947-4acb-a056-d5c6e514158a",
   "metadata": {},
   "outputs": [
    {
     "name": "stdout",
     "output_type": "stream",
     "text": [
      "['Airport' 'Alewife' 'Andrew' 'Aquarium' 'Arlington' 'Ashmont' 'Assembly'\n",
      " 'Back Bay' 'Ball Square' 'Beachmont' 'Bowdoin' 'Boylston' 'Braintree'\n",
      " 'Broadway' 'Central' 'Charles/MGH' 'Chinatown' 'Community College'\n",
      " 'Copley' 'Courthouse' 'Davis' 'Downtown Crossing' 'East Somerville'\n",
      " 'Fields Corner' 'Forest Hills' 'Gilman Square' 'Government Center'\n",
      " 'Green Street' 'Harvard' 'Haymarket' 'Hynes Convention Center'\n",
      " 'JFK/UMass' 'Jackson Square' 'Kendall/MIT' 'Kenmore' 'Lechmere'\n",
      " 'Magoun Square' 'Malden Center' 'Massachusetts Avenue' 'Mattapan Line'\n",
      " 'Maverick' 'Medford/Tufts' 'North Quincy' 'North Station' 'Oak Grove'\n",
      " 'Orient Heights' 'Park Street' 'Porter' 'Prudential' 'Quincy Adams'\n",
      " 'Quincy Center' 'Revere Beach' 'Riverside' 'Roxbury Crossing' 'Ruggles'\n",
      " 'Savin Hill' 'Science Park' 'Shawmut' 'South Station' 'State Street'\n",
      " 'Stony Brook' 'Suffolk Downs' 'Sullivan Square' 'Symphony'\n",
      " 'Tufts Medical Center' 'Union Square' 'Wellington' 'Wollaston'\n",
      " 'Wonderland' 'Wood Island' 'World Trade Center']\n"
     ]
    }
   ],
   "source": [
    "print(df['station_name'].unique())"
   ]
  },
  {
   "cell_type": "code",
   "execution_count": 39,
   "id": "10486db4-cee9-4cd1-badd-e64782c095af",
   "metadata": {},
   "outputs": [],
   "source": [
    "East_Boston = ['Airport','Maverick','Orient Heights','Suffolk Downs','Wood Island','Maverick','Orient Heights','Suffolk Downs','Wood Island']\n",
    "Allston = ['Allston Street']\n",
    "North_Cambridge = ['Alewife']\n",
    "South_Boston = ['Andrew','Broadway','Courthouse','World Trade Center']\n",
    "Downtown = ['Aquarium','Boylston','Downtown Crossing','Government Center','Haymarket','Park Street','South Station','State Street']\n",
    "Back_Bay = ['Arlington', 'Back Bay','Copley','Hynes Convention Center','Prudential']\n",
    "Dorchester = ['Ashmont','Fields Corner','JFK/UMass','Savin Hill','Shawmut']\n",
    "Assembly_Square = ['Assembly']\n",
    "Somerville = ['Ball Square','East Somerville','Gilman Square','Magoun Square']\n",
    "Beachmont = ['Beachmont']\n",
    "Beacon_Hill = ['Bowdoin']\n",
    "Braintree = ['Braintree']\n",
    "Central_Square = ['Central']\n",
    "West_End = ['Charles/MGH','North Station','Science Park']\n",
    "Chinatown = ['Chinatown','Tufts Medical Center']\n",
    "Charlestown = ['Community College','Sullivan Square']\n",
    "Davis_Square = ['Davis']\n",
    "Jamaica_Plain = ['Forest Hills','Green Street','Jackson Square','Stony Brook']\n",
    "Harvard_Square = ['Harvard']\n",
    "Kendall_Square = ['Kendall/MIT']\n",
    "Fenway_Kenmore = ['Kenmore','Massachusetts Avenue','Symphony']\n",
    "Lechmere_Square = ['Lechmere']\n",
    "Malden = ['Malden Center','Oak Grove']\n",
    "Mattapan = ['Mattapan Line']\n",
    "Medford = ['Medford/Tufts','Wellington']\n",
    "North_Quincy = ['North Quincy']\n",
    "Porter_Square = ['Porter']\n",
    "South_Quincy = ['Quincy Adams']\n",
    "Quincy_Center = ['Quincy Center']\n",
    "Revere = ['Revere Beach','Wonderland']\n",
    "Auburndale = ['Riverside']\n",
    "Roxbury = ['Roxbury Crossing','Ruggles']\n",
    "Union_Square = ['Union Square'] \n",
    "Wollaston = ['Wollaston']"
   ]
  },
  {
   "cell_type": "code",
   "execution_count": 43,
   "id": "541f4aa3-6652-4168-b70a-274c1e70568a",
   "metadata": {},
   "outputs": [],
   "source": [
    "data = {\n",
    "    'East_Boston': East_Boston,\n",
    "    'Allston': Allston,\n",
    "    'North_Cambridge': North_Cambridge,\n",
    "    'South_Boston':South_Boston,\n",
    "    'Downtown':Downtown,\n",
    "    'Back_Bay':Back_Bay,\n",
    "    'Dorchester':Dorchester,\n",
    "    'Assembly_Square':Assembly_Square,\n",
    "    'Somerville':Somerville,\n",
    "    'Beachmont':Beachmont,\n",
    "    'Beacon_Hill':Beacon_Hill,\n",
    "    'Braintree':Braintree,\n",
    "    'Central_Square':Central_Square,\n",
    "    'West_End':West_End,\n",
    "    'Chinatown':Chinatown,\n",
    "    'Charlestown':Charlestown,\n",
    "    'Davis_Square':Davis_Square,\n",
    "    'Jamaica_Plain':Jamaica_Plain,\n",
    "    'Harvard_Square':Harvard_Square,\n",
    "    'Kendall_Square':Kendall_Square,\n",
    "    'Fenway_Kenmore':Fenway_Kenmore,\n",
    "    'Lechmere_Square':Lechmere_Square,\n",
    "    'Malden':Malden,\n",
    "    'Mattapan':Mattapan,\n",
    "    'Medford':Medford,\n",
    "    'North_Quincy':North_Quincy,\n",
    "    'Porter_Square':Porter_Square,\n",
    "    'South_Quincy':South_Quincy,\n",
    "    'Quincy_Center':Quincy_Center,\n",
    "    'Revere':Revere,\n",
    "    'Auburndale':Auburndale,\n",
    "    'Roxbury':Roxbury,\n",
    "    'Union_Square':Union_Square,\n",
    "    'Wollaston':Wollaston\n",
    "}\n"
   ]
  },
  {
   "cell_type": "code",
   "execution_count": 52,
   "id": "dad602dc-b716-400d-bfbd-528bc7110e00",
   "metadata": {},
   "outputs": [
    {
     "name": "stdout",
     "output_type": "stream",
     "text": [
      "            station_name      month  gated_entries route_or_line  year  \\\n",
      "0                Airport      April       157973.0     Blue Line  2023   \n",
      "1                Airport     August       285603.0     Blue Line  2023   \n",
      "2                Airport   December       159399.0     Blue Line  2023   \n",
      "3                Airport   February       133327.0     Blue Line  2023   \n",
      "4                Airport    January       151772.0     Blue Line  2023   \n",
      "...                  ...        ...            ...           ...   ...   \n",
      "9135  World Trade Center      March        49256.0   Silver Line  2014   \n",
      "9136  World Trade Center        May        58620.0   Silver Line  2014   \n",
      "9137  World Trade Center   November        48444.0   Silver Line  2014   \n",
      "9138  World Trade Center    October        51382.0   Silver Line  2014   \n",
      "9139  World Trade Center  September        48037.0   Silver Line  2014   \n",
      "\n",
      "         station_x     station_y  \n",
      "0      East_Boston   East_Boston  \n",
      "1      East_Boston   East_Boston  \n",
      "2      East_Boston   East_Boston  \n",
      "3      East_Boston   East_Boston  \n",
      "4      East_Boston   East_Boston  \n",
      "...            ...           ...  \n",
      "9135  South_Boston  South_Boston  \n",
      "9136  South_Boston  South_Boston  \n",
      "9137  South_Boston  South_Boston  \n",
      "9138  South_Boston  South_Boston  \n",
      "9139  South_Boston  South_Boston  \n",
      "\n",
      "[9140 rows x 7 columns]\n"
     ]
    }
   ],
   "source": [
    "# Flatten the station_data dictionary into two lists\n",
    "stations = []\n",
    "names = []\n",
    "\n",
    "for station, name_list in data.items():\n",
    "    stations.extend([station] * len(name_list))\n",
    "    names.extend(name_list)\n",
    "\n",
    "# Create a DataFrame from these lists\n",
    "station_df = pd.DataFrame({'station_name': names, 'station': stations})\n",
    "\n",
    "# Merge this DataFrame with the existing DataFrame on the 'name' column\n",
    "df = pd.merge(df, station_df, on='station_name', how='left')\n",
    "\n",
    "print(df)"
   ]
  },
  {
   "cell_type": "code",
   "execution_count": 70,
   "id": "48a35c9a-60bc-4742-9568-9b13ce47b08c",
   "metadata": {},
   "outputs": [],
   "source": [
    "#df = df.drop('station_x', axis=1)\n",
    "df = df.rename(columns={'station_y': 'station'})"
   ]
  },
  {
   "cell_type": "code",
   "execution_count": 72,
   "id": "acee867a-618f-453a-938d-379195ee1163",
   "metadata": {},
   "outputs": [],
   "source": [
    "df.to_csv('station+neighborhood.csv', index=False)"
   ]
  },
  {
   "cell_type": "code",
   "execution_count": 4,
   "id": "37d2ce5e-c94c-4565-884c-dc8f2a676454",
   "metadata": {},
   "outputs": [],
   "source": [
    "data = pd.read_csv('station+neighborhood.csv')"
   ]
  },
  {
   "cell_type": "code",
   "execution_count": 16,
   "id": "de826c06-e75f-4e0b-8769-ef0d28a66e07",
   "metadata": {},
   "outputs": [],
   "source": [
    "unique_subject_count = data['station'].value_counts()"
   ]
  },
  {
   "cell_type": "code",
   "execution_count": 18,
   "id": "edffd231-9c9f-435d-b48f-7eac200268ba",
   "metadata": {},
   "outputs": [
    {
     "name": "stdout",
     "output_type": "stream",
     "text": [
      "station\n",
      "East_Boston        2040\n",
      "Downtown            938\n",
      "Back_Bay            600\n",
      "Dorchester          600\n",
      "Jamaica_Plain       480\n",
      "South_Boston        480\n",
      "Fenway_Kenmore      360\n",
      "West_End            340\n",
      "Revere              240\n",
      "Chinatown           240\n",
      "Charlestown         240\n",
      "Roxbury             240\n",
      "Malden              240\n",
      "Medford             134\n",
      "Beachmont           120\n",
      "Quincy_Center       120\n",
      "South_Quincy        120\n",
      "Porter_Square       120\n",
      "North_Quincy        120\n",
      "Kendall_Square      120\n",
      "Auburndale          120\n",
      "Harvard_Square      120\n",
      "North_Cambridge     120\n",
      "Davis_Square        120\n",
      "Central_Square      120\n",
      "Braintree           120\n",
      "Beacon_Hill         120\n",
      "Assembly_Square     113\n",
      "Wollaston           102\n",
      "Lechmere_Square      99\n",
      "Somerville           54\n",
      "Union_Square         22\n",
      "Mattapan             18\n",
      "Name: count, dtype: int64\n"
     ]
    }
   ],
   "source": [
    "print(unique_subject_count)"
   ]
  },
  {
   "cell_type": "code",
   "execution_count": null,
   "id": "c1af89d8-884d-4771-9bee-551d207ea6ee",
   "metadata": {},
   "outputs": [],
   "source": []
  }
 ],
 "metadata": {
  "kernelspec": {
   "display_name": "Python 3 (ipykernel)",
   "language": "python",
   "name": "python3"
  },
  "language_info": {
   "codemirror_mode": {
    "name": "ipython",
    "version": 3
   },
   "file_extension": ".py",
   "mimetype": "text/x-python",
   "name": "python",
   "nbconvert_exporter": "python",
   "pygments_lexer": "ipython3",
   "version": "3.11.7"
  }
 },
 "nbformat": 4,
 "nbformat_minor": 5
}
